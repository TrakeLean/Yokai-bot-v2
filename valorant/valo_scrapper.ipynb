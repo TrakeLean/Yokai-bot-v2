{
 "cells": [
  {
   "cell_type": "code",
   "execution_count": 64,
   "metadata": {},
   "outputs": [],
   "source": [
    "import requests\n",
    "import json\n",
    "import concurrent\n",
    "\n",
    "\n",
    "API_KEY = '1783319260d70f84da21868ce0fd6207'"
   ]
  },
  {
   "cell_type": "code",
   "execution_count": 65,
   "metadata": {},
   "outputs": [],
   "source": [
    "def write(response):\n",
    "    with open('json_dir/lfg.json', 'w') as json_file:\n",
    "        json_file.write(response.text)"
   ]
  },
  {
   "cell_type": "code",
   "execution_count": 66,
   "metadata": {},
   "outputs": [],
   "source": [
    "def do_scrap(link):\n",
    "    region = 'EU'\n",
    "    #region = 'any'\n",
    "    #link = f'https://api.tracker.gg/api/v1/valorant/lfg/search?region{region}&playlist=competitive&skill=any'\n",
    "    #api_link = f\"http://api.scraperapi.com?api_key={API_KEY}&url={link}\"\n",
    "    payload = {'api_key': API_KEY, 'url': link, 'keep_headers': 'true'}\n",
    "    head = {\n",
    "        'authority': 'api.tracker.gg',\n",
    "        'method': 'GET',\n",
    "        'path': '/api/v1/valorant/lfg/search?region=any&playlist=competitive&skill=any',\n",
    "        'scheme': 'https',\n",
    "        'accept': 'text/html,application/xhtml+xml,application/xml;q=0.9,image/avif,image/webp,image/apng,*/*;q=0.8,application/signed-exchange;v=b3;q=0.9',\n",
    "        'accept-encoding': 'gzip, deflate, br',\n",
    "        'accept-language': 'nb-NO,nb;q=0.9,no;q=0.8,en-US;q=0.7,en;q=0.6,ru;q=0.5',\n",
    "        'cache-control': 'max-age=0',\n",
    "        'cookie': '__cflb=02DiuFQAkRrzD1P1mdkJhfdTc9AmTWwYkL5dhc6BaWz7E; X-Mapping-Server=s14; __cf_bm=eCW52EohIqvzfugOyKvNvo4spvffbOwnBy5YZBvh4gQ-1653777883-0-AYz5PvgOpqpL7/UCjWN7/dokINYUw/EV1D4T6eY5n9YecMF2lY0M4TWWdDyySEalQ3lzxua3IYwD9KUjzZtmFdM=',\n",
    "        'sec-ch-ua': 'Not A;Brand\";v=\"99\", \"Chromium\";v=\"101\", \"Google Chrome\";v=\"101',\n",
    "        'sec-ch-ua-mobile': '?0',\n",
    "        'sec-ch-ua-platform': 'macOS',\n",
    "        'sec-fetch-dest': 'document',\n",
    "        'sec-fetch-mode': 'navigate',\n",
    "        'sec-fetch-site': 'none',\n",
    "        'sec-fetch-user': '?1',\n",
    "        'upgrade-insecure-requests': '1',\n",
    "        'user-agent': 'Mozilla/5.0 (Macintosh; Intel Mac OS X 10_15_7) AppleWebKit/537.36 (KHTML, like Gecko) Chrome/101.0.0.0 Safari/537.36'\n",
    "        }\n",
    "    count = 0\n",
    "    while True:\n",
    "        response = requests.get('http://api.scraperapi.com', params=payload, headers=head)\n",
    "        if response.status_code == 200:\n",
    "            print(f'Success:',response.status_code)\n",
    "            return response\n",
    "        else:\n",
    "            print(f'Failure:',response.status_code)\n",
    "            count += ''\n",
    "            if count >= 2:\n",
    "                return None\n",
    "            continue\n",
    "#200\tSuccessful response. - ScraperAPI\n",
    "#400    Bad request is sent when the server cannot understand the request sent by the client. - Requests\n",
    "#401    Unauthorized is sent whenever fulfilling the requests requires supplying valid credentials. - Requests\n",
    "#403    Forbidden means that the server understood the request but will not fulfill it. - Requests\n",
    "#404\tPage requested does not exist. - ScraperAPI\n",
    "#410\tPage requested is no longer available. - ScraperAPI\n",
    "#500\tAfter retrying for 60 seconds, the API was unable to receive a successful response. - ScraperAPI\n",
    "#429\tYou are sending requests too fast, and exceeding your concurrency limit. - ScraperAPI\n",
    "#403\tYou have used up all your API credits. - ScraperAPI"
   ]
  },
  {
   "cell_type": "code",
   "execution_count": 81,
   "metadata": {},
   "outputs": [],
   "source": [
    "def get_info():\n",
    "    file = open('json_dir/lfg.json')\n",
    "    data = json.load(file)['data']['entries']\n",
    "    placement_ID = 0\n",
    "    player_dictionary = {}\n",
    "    for person in data:\n",
    "        placement_ID += 1\n",
    "        # Random valotrack account info\n",
    "        userinfo = person['userInfo']\n",
    "        \n",
    "        userinfo_id = userinfo['userId']\n",
    "        is_premium = userinfo['isPremium']\n",
    "        is_verified = userinfo['isVerified']\n",
    "        is_Influencer = userinfo['isInfluencer']\n",
    "        region = userinfo['countryCode']\n",
    "        is_suspicious = userinfo['isSuspicious']\n",
    "        \n",
    "        # Valorant info\n",
    "        platform_info = person['platformInfo']\n",
    "        \n",
    "        valo_name = platform_info['platformUserHandle']\n",
    "        avatar_url = platform_info['avatarUrl']\n",
    "        \n",
    "        # User bio/info\n",
    "        bio = person['bio']\n",
    "        \n",
    "        has_mic = bio['hasMicrophone']\n",
    "        playstyle = bio['playStyle']\n",
    "        about = bio['about']\n",
    "        \n",
    "        # Valo account stats\n",
    "        valo = person['profileSummary']\n",
    "        \n",
    "        rank_tier = bio['statsJson'].split(' ')[1].replace(',', '')\n",
    "        rank = valo['featureStat']['value']\n",
    "        winrate = valo['stats']['matchesWinPct']['value']\n",
    "        kda = valo['stats']['kDRatio']['value']\n",
    "        dmg_per_round = valo['stats']['damagePerRound']['value']\n",
    "\n",
    "        # Get links to different medias\n",
    "        social_accounts = userinfo['socialAccounts']\n",
    "        socials = []\n",
    "        for social in social_accounts:\n",
    "            platform = social['platformSlug']\n",
    "            user_handle = social['platformUserHandle']\n",
    "            socials.append([platform, user_handle])\n",
    "        taken_keys = player_dictionary.keys()\n",
    "        if rank_tier in taken_keys:\n",
    "            player_dictionary[rank_tier] = [player_dictionary[rank_tier],\n",
    "                                            valo_name,\n",
    "                                            rank, rank_tier,\n",
    "                                            winrate, kda,\n",
    "                                            dmg_per_round,\n",
    "                                            region,\n",
    "                                            socials,\n",
    "                                            has_mic,\n",
    "                                            playstyle,\n",
    "                                            about,\n",
    "                                            is_verified,\n",
    "                                            is_premium,\n",
    "                                            is_Influencer,\n",
    "                                            is_suspicious,\n",
    "                                            avatar_url,\n",
    "                                            ]\n",
    "        else:\n",
    "            player_dictionary[rank_tier] = [valo_name,\n",
    "                                            rank, rank_tier,\n",
    "                                            winrate, kda,\n",
    "                                            dmg_per_round,\n",
    "                                            region,\n",
    "                                            socials,\n",
    "                                            has_mic,\n",
    "                                            playstyle,\n",
    "                                            about,\n",
    "                                            is_verified,\n",
    "                                            is_premium,\n",
    "                                            is_Influencer,\n",
    "                                            is_suspicious,\n",
    "                                            avatar_url,\n",
    "                                            ]        \n",
    "    # dictionary_items = player_dictionary.items()\n",
    "    # sorted_dictionary = sorted(dictionary_items) \n",
    "    # return sorted_dictionary\n",
    "    return player_dictionary"
   ]
  },
  {
   "cell_type": "code",
   "execution_count": 68,
   "metadata": {},
   "outputs": [],
   "source": [
    "region = 'EU'\n",
    "    #region = 'any'\n",
    "links = [f'https://api.tracker.gg/api/v1/valorant/lfg/search?region{region}&playlist=competitive&skill=any',\n",
    "         f'https://api.tracker.gg/api/v1/valorant/lfg/search?region{region}&playlist=competitive&skill=any',\n",
    "         f'https://api.tracker.gg/api/v1/valorant/lfg/search?region{region}&playlist=competitive&skill=any',\n",
    "         f'https://api.tracker.gg/api/v1/valorant/lfg/search?region{region}&playlist=competitive&skill=any',\n",
    "         f'https://api.tracker.gg/api/v1/valorant/lfg/search?region{region}&playlist=competitive&skill=any',\n",
    "         ]\n"
   ]
  },
  {
   "cell_type": "code",
   "execution_count": 69,
   "metadata": {},
   "outputs": [],
   "source": [
    "def all_in_one(links):\n",
    "    write(do_scrap(links))\n",
    "    get_info() "
   ]
  },
  {
   "cell_type": "code",
   "execution_count": 82,
   "metadata": {},
   "outputs": [
    {
     "name": "stdout",
     "output_type": "stream",
     "text": [
      "{'9': [[[[[[[['marquez#1214', 'Silver 1', '9', 57.75, 1.27, 158.15, 'US', [['discord', 'marquez#7578']], False, None, 'NAE', False, True, False, None, 'https://trackercdn.com/cdn/user-avatars/1209128.gif?v=637888789816543134'], 'Cad#6969', 'Silver 1', '9', 46.25, 1.04, 144.97, 'GB', [['discord', 'Cad#9406']], False, None, 'LGF to clim. Ex plat', False, False, False, None, None], 'Shahmeer#8269', 'Silver 1', '9', 48.51, 0.9, 135.24, 'GB', [['discord', 'Shahmeer#2502']], False, None, '', False, False, False, None, None], 'Marrow#5208', 'Silver 1', '9', 49.09, 0.97, 131.07, 'DE', [['discord', 'Marrow#4192']], False, None, '', False, False, False, None, None], 'VetleJuice#4122', 'Silver 1', '9', 47.31, 0.99, 143.54, 'NO', [['discord', 'VetleJuice#5050']], False, None, 'Silver 1 peak silver 2 95rr', False, False, False, None, None], 'squaredash#6885', 'Silver 1', '9', 34.78, 1.48, 187.64, 'US', [['discord', 'square-#7639']], False, None, 'I want to learn and rank up.', False, False, False, None, None], 'DanyPlayz#THICC', 'Silver 1', '9', 55.38, 1.28, 167.66, 'AE', [['discord', 'DanyPlayz#4929']], False, None, None, False, False, False, None, None], 'Bobaman#0001', 'Silver 1', '9', 47.51, 1.16, 160.02, 'CA', [['discord', 'Vlado#0646']], False, None, '', False, False, False, None, None], '6': [[[[[[[[[['CELERY#CELY', 'Bronze 1', '6', 53.51, 0.87, 125.49, 'US', [['twitch', 'celenite_'], ['discord', 'CELENITE#7444'], ['twitter', 'Celenitee']], False, None, 'MUST GET BETTER', False, True, False, None, 'https://trackercdn.com/cdn/user-avatars/6951340.jpg?v=637890048953090490'], 'BobRossTheGreat#NA1', 'Bronze 1', '6', 48.13, 1.0, 134.08, 'US', [['discord', 'BobRossTheGreat#7114']], False, None, '', False, True, False, None, None], 'zesty#9111', 'Bronze 1', '6', 48.58, 0.63, 106.45, 'US', [['discord', 'Zesty/bitch#9975']], False, None, '', False, False, False, None, None], '1chbinhiシ#Weeb', 'Bronze 1', '6', 47.06, 1.1, 135.04, 'DE', [], False, None, 'girl,bad ig...\\n       &\\n           Discord: Ichbinhi#5272\\nso add me if u want :) but be german plss ', False, False, False, None, None], 'joy#0770', 'Bronze 1', '6', 48.66, 1.13, 133.34, 'US', [['discord', 'joy#0083']], False, None, 'zzz', False, False, False, None, None], 'oldsnake#000', 'Bronze 1', '6', 47.0, 0.85, 111.75, 'BD', [['discord', 'OldSnake#2725']], False, None, 'ERROR404', False, False, False, None, None], 'thegamingrune#3126', 'Bronze 1', '6', 44.29, 0.72, 106.39, 'GB', [['discord', 'Leaf#3743']], False, None, 'Dude who plays sage or skye usually. Good but not that good', False, False, False, None, None], 'Need a Mommy#7470', 'Bronze 1', '6', 61.54, 1.84, 196.43, 'US', [['discord', 'RedJay#5163']], False, None, None, False, False, False, None, None], 'TheWinner#yoru', 'Bronze 1', '6', 47.19, 0.75, 109.8, 'BG', [['twitch', 'thewinner9588'], ['discord', 'TheWinner#9289'], ['twitter', 'thewinner958'], ['youtube', None]], False, None, '', False, False, False, None, None], 'LuiSinhO92#POR', 'Bronze 1', '6', 47.83, 0.92, 141.27, 'PT', [['discord', \"LuiSinhO '^#4157\"]], False, None, 'B2 Comp', False, False, False, None, None], '12': [[[[[['LC ihkawiss#LC14', 'Gold 1', '12', 50.85, 1.23, 159.84, 'CH', [['discord', 'ihkawiss#0960']], False, None, '', False, True, False, None, None], 'sadge#1738', 'Gold 1', '12', 51.83, 0.99, 138.81, 'US', [['discord', 'dianneerrr#1327']], False, None, '', False, False, False, None, None], 'friendly gamer#240hz', 'Gold 1', '12', 47.47, 1.03, 133.43, 'DE', [['discord', 'Der Allerechte#3787']], False, None, 'Looking for mate. Talking in ing chat. I don´t really have a main so I can just fill basically.', False, False, False, None, None], 'deuce wrld#999', 'Gold 1', '12', 51.9, 1.14, 143.02, 'US', [['twitch', 'fowensic'], ['discord', 'fow fow#1818'], ['twitter', 'Fowensic'], ['youtube', None]], False, None, None, False, False, False, None, None], 'SPEEDCUP#uwu', 'Gold 1', '12', 47.02, 0.99, 137.05, 'DE', [['discord', '_⎛⎝「SPEEDCUP」⎠⎞_#0420']], False, None, '➥ Hello, its me, Speedy!\\n↬ Pretending I have free time, whilst playing valorant.\\n↬ M17, Germany', False, False, False, None, None], 'RyanFux#FUXX', 'Gold 1', '12', 51.35, 0.94, 139.11, 'US', [['discord', 'prophet#2048']], False, None, None, False, False, False, None, None], '19': [[[['keysha#BEL', 'Diamond 2', '19', 50.57, 1.07, 145.31, 'BE', [['discord', 'kysha#1443']], False, None, 'looking for duo', False, True, False, None, 'https://trackercdn.com/cdn/user-avatars/7013214.jpg?v=637893774332084210'], 'seloslx#AC4B', 'Diamond 2', '19', 48.96, 1.0, 145.65, None, [['discord', 'seloslx#4300']], False, None, '', False, False, False, None, None], 'voca#1809', 'Diamond 2', '19', 48.62, 1.01, 135.98, 'DE', [['discord', 'voca // Dome#6195']], False, None, 'LF chilled guys with rank ambitions towards Immortal+', False, False, False, None, None], 'SniperMaster#FLN', 'Diamond 2', '19', 51.76, 1.07, 150.08, 'ES', [['discord', 'elrabos111#9170']], False, None, 'Road to immortal', False, False, False, None, None], '0': [['mYi Prav#mYi', 'Unrated', '0', 49.66, 1.13, 153.49, 'CH', [['twitch', 'pravix_'], ['discord', 'Prav#1998'], ['twitter', 'PravixPeep'], ['youtube', None]], False, None, None, False, True, False, None, 'https://trackercdn.com/cdn/user-avatars/6477781.jpg?v=637892028117818270'], 'blinq#1338', 'Unrated', '0', 48.55, 0.99, 139.61, 'US', [['discord', 'dogeronni#1338'], ['youtube', None]], False, None, 'i am very cool if you think so too then i wait for message or however this works 0-) mike wazowski', False, False, False, None, None], '22': ['substantial#vibes', 'Immortal 2', '22', 52.98, 1.24, 157.6, 'AU', [['twitch', 'agonisitq'], ['discord', 'substantial#2281'], ['youtube', None]], False, None, 'can fill agent, lets go', False, True, False, None, 'https://trackercdn.com/cdn/user-avatars/907597.gif?v=637727301012266882'], '8': [[[[[[['milkis#boba', 'Bronze 3', '8', 49.64, 1.23, 138.31, 'US', [['twitch', 'scouttrooper89'], ['discord', 'ScoutTrooper#7952']], False, None, '', False, False, False, None, None], 'Manuelderfigger#EUW', 'Bronze 3', '8', 46.05, 1.06, 156.91, 'DE', [['twitch', 'leon_1509'], ['discord', 'V0id#2726'], ['youtube', None]], False, None, 'we need 1 more\\n', False, False, False, None, None], 'Jeff Yuman#EUW', 'Bronze 3', '8', 41.3, 1.24, 164.96, 'DK', [['discord', 'Frederick#5106']], False, None, 'Happy guy playing valorant from time to time. LETS WIN.', False, False, False, None, None], 'LazyZone5#9147', 'Bronze 3', '8', 48.02, 0.98, 143.13, 'TN', [], False, None, '', False, False, False, None, None], 'Rage Is a Dilf#dad', 'Bronze 3', '8', 55.32, 0.89, 113.52, 'US', [['twitch', 'imragedude'], ['twitter', '@ragemademe']], False, None, 'Casually grinding ranked games.', False, False, False, None, None], 'bossogaming#9627', 'Bronze 3', '8', 42.55, 1.12, 154.33, 'US', [['discord', 'me when i see tiktok on youtube#6171']], False, None, '', False, False, False, None, None], 'UPRPanda#2621', 'Bronze 3', '8', 42.86, 0.91, 133.63, 'US', [['discord', 'UPRPanda#2621']], False, None, None, False, False, False, None, None], '21': [[['qTx11#111', 'Immortal 1', '21', 51.78, 0.97, 139.72, 'FR', [], False, None, '', False, False, False, None, None], 'core#55555', 'Immortal 1', '21', 50.77, 1.0, 141.13, 'TR', [['discord', 'alyvelvnn#8487']], False, None, '', False, False, False, None, None], 'HunterB#1774', 'Immortal 1', '21', 48.57, 1.07, 148.4, 'US', [['discord', 'HunterB#3866']], False, None, '', False, False, False, None, None], '13': [[[['MikuSimp#0505', 'Gold 2', '13', 47.72, 0.97, 148.03, 'CA', [['discord', '~~~#6300']], False, None, '', False, False, False, None, None], 'SE7EN#XENON', 'Gold 2', '13', 48.59, 1.06, 136.39, 'EG', [['discord', 'ztorkey#5261']], False, None, 'need to grind to diamond', False, False, False, None, None], 'phillipo#MOMMY', 'Gold 2', '13', 49.9, 1.11, 142.58, 'DE', [['discord', 'phillipo#5518']], False, None, 'looking for some people to mainly play with.\\n\\nSilver - Gold', False, False, False, None, None], 'Mercuryyy#1208', 'Gold 2', '13', 47.62, 0.98, 131.97, 'IT', [['discord', 'danii#5177'], ['twitter', 'danimies']], False, None, 'Hi, I speak fluent english and spanish only. I need chill people to rank up as much as we can!', False, False, False, None, None], '4': ['Drak3n#kun', 'Iron 2', '4', 43.82, 0.76, 113.71, 'IT', [['discord', 'Galacta#5328']], False, None, \"I need good teammates, I'm stuck on iron but i can probably hit gold 1/2 if i had good team members\", False, False, False, None, None], '16': [[[['Xanax#xxx', 'Platinum 2', '16', 52.83, 1.2, 151.3, 'NL', [['discord', 'daine#4465']], False, None, 'yes', False, False, False, None, None], 'SMT miedo#MVP', 'Platinum 2', '16', 51.62, 1.08, 147.51, 'TR', [['discord', 'qwe#6332']], False, None, 'Hi guys! I am looking for new teams right now.  I can play wtih all agents also I am a IGL. ', False, False, False, None, None], 'I Love Aurealia#0031', 'Platinum 2', '16', 49.42, 1.06, 139.09, 'US', [['discord', 'Bannderson#4627']], False, None, '', False, False, False, None, None], 'Joey Gundy#TTV', 'Platinum 2', '16', 49.58, 1.01, 127.82, 'US', [['twitch', 'joeygundy'], ['discord', 'joeygundy#5368'], ['twitter', '@Joey_Gundy'], ['youtube', None]], False, None, '', False, False, False, None, None], '17': [[[[[['Vaffl3#EUW', 'Platinum 3', '17', 54.79, 0.98, 145.56, 'SK', [['discord', 'Vafflicko#9493']], False, None, '', False, False, False, None, None], 'meeseek#69420', 'Platinum 3', '17', 48.92, 0.98, 137.14, 'US', [['twitch', 'meeseek_ttv'], ['discord', 'meeseek#5041'], ['twitter', 'meeseek_ttv']], False, None, None, False, False, False, None, None], 'SplaSh#41414', 'Platinum 3', '17', 52.19, 1.14, 153.5, 'IL', [['discord', '!.black#5507']], False, None, 'SplaSh#41414', False, False, False, None, None], 'zeJ#Aye', 'Platinum 3', '17', 50.82, 0.93, 127.25, 'PH', [['discord', 'zeJ#4112']], False, None, '', False, False, False, None, None], 'yassine#1tap', 'Platinum 3', '17', 52.7, 1.17, 148.3, 'MA', [['discord', 'Yassine#1433']], False, None, '', False, False, False, None, None], 'Wise#7877', 'Platinum 3', '17', 51.7, 1.05, 149.04, 'US', [['twitch', 'wiserl'], ['discord', 'wise#0001'], ['youtube', None]], False, None, 'looking for egirl 18+ serious inquiries only, discord wise#0001', False, False, False, None, None], '15': [['SNPZY#1283', 'Platinum 1', '15', 48.15, 1.06, 137.09, 'GB', [], False, None, '', False, False, False, None, None], 'HOWLUX#UKR', 'Platinum 1', '15', 53.85, 1.13, 139.14, 'UA', [['discord', 'HOWLUX#1303']], False, None, '', False, False, False, None, None], '11': [[[['Remaké#EUW', 'Silver 3', '11', 49.12, 1.1, 151.37, 'DE', [['discord', 'Remaké#9696']], False, None, '', False, False, False, None, None], 'WD Pikkyaaa#Emc2', 'Silver 3', '11', 48.9, 1.02, 141.81, 'PH', [['discord', 'Shift#6784']], False, None, '', False, False, False, None, None], 'yung bobkhus#rktoh', 'Silver 3', '11', 49.71, 0.89, 132.57, 'US', [['twitch', 'rkt0h'], ['discord', 'Rektoh#5642'], ['twitter', 'rkt0h']], False, None, '', False, False, False, None, None], 'yung bobkhus#rktoh', 'Silver 3', '11', 49.71, 0.89, 132.57, 'US', [['twitch', 'rkt0h'], ['discord', 'Rektoh#5642'], ['twitter', 'rkt0h']], False, None, '', False, False, False, None, None], '7': [[[[[[['2PacFearless#3161', 'Bronze 2', '7', 48.56, 0.97, 129.69, 'BG', [['discord', '2pacfearless#7307']], False, None, '', False, False, False, None, None], 'rayaan#1753', 'Bronze 2', '7', 50.0, 0.87, 122.18, 'CA', [['twitch', 'rayaanvfx'], ['discord', 'rayaan!#0001'], ['twitter', 'rayaanVFX'], ['youtube', None]], False, None, 'Hardstuck Bronze... ', False, False, False, None, None], 'MoeCereal#BOZO', 'Bronze 2', '7', 49.22, 0.84, 117.62, 'US', [['discord', 'CerealMadness#8450']], False, None, 'Perpetually hardstuck masochist seeking other perpetually hardstuck masochists', False, False, False, None, None], 'sofya#2690', 'Bronze 2', '7', 56.3, 1.43, 175.47, 'MY', [['discord', 'Sof#8395'], ['youtube', None]], False, None, \"I promise I won't let you down if you choose me, you can kick me out if you're not satisfied with me\", False, False, False, None, None], 'Toast Malone#063', 'Bronze 2', '7', 49.21, 0.99, 135.37, 'DE', [['discord', 'apf3l_jan#3723']], False, None, '', False, False, False, None, None], 'KazuraDrop#0000', 'Bronze 2', '7', 48.57, 0.8, 121.58, 'PH', [['discord', 'kizunaDom#4864']], False, None, 'Sentinel Player, mostly killjoy and viper, and only know raze as a duelist. knows alot of rat spots', False, False, False, None, None], 'Askeladd#1111', 'Bronze 2', '7', 33.33, 1.52, 220.72, 'GB', [['discord', \"ven'#9132\"]], False, None, '16 years old mic', False, False, False, None, None], '18': [[[['JoKing#Kizzy', 'Diamond 1', '18', 51.31, 1.1, 165.04, 'MY', [['twitch', '1nonlyjo'], ['discord', '1nonlyJo#0001']], False, None, '', False, False, False, None, None], 'excz#0001', 'Diamond 1', '18', 51.43, 1.12, 154.16, 'MY', [['twitch', 'excses'], ['discord', 'Adãm#8689']], False, None, 'looking for duo asia', False, False, False, None, None], 'Aram#7018', 'Diamond 1', '18', 51.3, 1.03, 131.48, 'US', [['discord', 'Aram#4228']], False, None, '', False, False, False, None, None], 'JUSAPEL#1111', 'Diamond 1', '18', 50.0, 0.9, 125.79, 'ID', [], False, None, '', False, False, False, None, None], '5': ['RandoDoodle#4729', 'Iron 3', '5', 33.33, 0.72, 110.07, 'ID', [['discord', 'RandoDoodle#4729']], False, None, 'Im rando', False, False, False, None, None], '23': ['mtk#9142', 'Immortal 3', '23', 57.93, 1.16, 141.54, 'BG', [['discord', 'Mtk#2124']], False, None, 'Need a duo for immo 3 im tired of toxic teammates with no mics', False, False, False, None, None], '3': [['jatazoulja#zoulj', 'Iron 1', '3', 31.58, 0.5, 100.22, 'PH', [['discord', 'jatazoulja#5229'], ['twitter', 'jatazoulja']], False, None, 'just want to have fun and learn.', False, False, False, None, None], 'pixels#wino', 'Iron 1', '3', 48.78, 0.51, 85.98, 'IT', [['discord', 'pixel_jolly#5082']], False, None, 'I just need to get better', False, False, False, None, None], '20': [['CASUAL#SUPR', 'Diamond 3', '20', 51.37, 1.17, 154.4, 'NZ', [['discord', 'Casual 🙏#5418']], False, None, 'LFT to scrim with for practice , understand game is very different outside comp,want some experience', False, False, False, None, None], 'MRZ FrosteeZ#JON', 'Diamond 3', '20', 51.47, 1.05, 157.08, 'PH', [['discord', 'K4rma#8490']], False, None, \"Willing to learn, Willing to take criticism and Motivated person I'm looking for a team\", False, False, False, None, None], '10': ['CBR Calzone#6969', 'Silver 2', '10', 45.61, 1.05, 145.48, 'US', [['twitch', 'shinobiszn'], ['discord', 'Pluto#7788']], False, None, \"Really chill. Don't care how you play or who you play. Just want to enjoy the game and have fun <3\", False, False, False, None, None], '14': [[[[['GUST1K4#EUNE', 'Gold 3', '14', 51.49, 0.96, 135.34, 'RS', [['discord', 'Driggeron#0131']], False, None, '', False, False, False, None, None], 'moo mojo#8821', 'Gold 3', '14', 49.91, 1.06, 143.32, 'US', [['discord', 'tmsmu#5083']], False, None, None, False, False, False, None, None], 'BoogeyMan#4745', 'Gold 3', '14', 49.78, 0.96, 135.9, 'IN', [['discord', 'Boogeyman#8038']], False, None, '', False, False, False, None, None], 'Iceman#LFull', 'Gold 3', '14', 52.17, 0.98, 144.64, 'GB', [['discord', 'BigDoinksDom#4762']], False, None, 'No Toxic and must have mic', False, False, False, None, None], 'ＲａｚｅＴｒｕｃｏッ#Pija', 'Gold 3', '14', 64.29, 1.62, 192.17, 'ES', [], False, None, 'Si.', False, False, False, None, None]}\n"
     ]
    }
   ],
   "source": [
    "response = get_info()\n",
    "print(response)"
   ]
  },
  {
   "cell_type": "code",
   "execution_count": 71,
   "metadata": {},
   "outputs": [
    {
     "ename": "KeyboardInterrupt",
     "evalue": "",
     "output_type": "error",
     "traceback": [
      "\u001b[0;31m---------------------------------------------------------------------------\u001b[0m",
      "\u001b[0;31mKeyboardInterrupt\u001b[0m                         Traceback (most recent call last)",
      "\u001b[1;32m/Users/tareklein/Documents/Inf-Kurs/INF-Eksamen/precode/Yokai-bot-v2/valorant/valo_scrapper.ipynb Cell 8'\u001b[0m in \u001b[0;36m<cell line: 1>\u001b[0;34m()\u001b[0m\n\u001b[1;32m      <a href='vscode-notebook-cell:/Users/tareklein/Documents/Inf-Kurs/INF-Eksamen/precode/Yokai-bot-v2/valorant/valo_scrapper.ipynb#ch0000007?line=0'>1</a>\u001b[0m \u001b[39mwith\u001b[39;00m concurrent\u001b[39m.\u001b[39mfutures\u001b[39m.\u001b[39mThreadPoolExecutor(max_workers\u001b[39m=\u001b[39m\u001b[39m5\u001b[39m) \u001b[39mas\u001b[39;00m executor:\n\u001b[0;32m----> <a href='vscode-notebook-cell:/Users/tareklein/Documents/Inf-Kurs/INF-Eksamen/precode/Yokai-bot-v2/valorant/valo_scrapper.ipynb#ch0000007?line=1'>2</a>\u001b[0m     executor\u001b[39m.\u001b[39mmap(all_in_one, links)\n",
      "File \u001b[0;32m/opt/homebrew/Cellar/python@3.9/3.9.12_1/Frameworks/Python.framework/Versions/3.9/lib/python3.9/concurrent/futures/_base.py:637\u001b[0m, in \u001b[0;36mExecutor.__exit__\u001b[0;34m(self, exc_type, exc_val, exc_tb)\u001b[0m\n\u001b[1;32m    <a href='file:///opt/homebrew/Cellar/python%403.9/3.9.12_1/Frameworks/Python.framework/Versions/3.9/lib/python3.9/concurrent/futures/_base.py?line=635'>636</a>\u001b[0m \u001b[39mdef\u001b[39;00m \u001b[39m__exit__\u001b[39m(\u001b[39mself\u001b[39m, exc_type, exc_val, exc_tb):\n\u001b[0;32m--> <a href='file:///opt/homebrew/Cellar/python%403.9/3.9.12_1/Frameworks/Python.framework/Versions/3.9/lib/python3.9/concurrent/futures/_base.py?line=636'>637</a>\u001b[0m     \u001b[39mself\u001b[39;49m\u001b[39m.\u001b[39;49mshutdown(wait\u001b[39m=\u001b[39;49m\u001b[39mTrue\u001b[39;49;00m)\n\u001b[1;32m    <a href='file:///opt/homebrew/Cellar/python%403.9/3.9.12_1/Frameworks/Python.framework/Versions/3.9/lib/python3.9/concurrent/futures/_base.py?line=637'>638</a>\u001b[0m     \u001b[39mreturn\u001b[39;00m \u001b[39mFalse\u001b[39;00m\n",
      "File \u001b[0;32m/opt/homebrew/Cellar/python@3.9/3.9.12_1/Frameworks/Python.framework/Versions/3.9/lib/python3.9/concurrent/futures/thread.py:235\u001b[0m, in \u001b[0;36mThreadPoolExecutor.shutdown\u001b[0;34m(self, wait, cancel_futures)\u001b[0m\n\u001b[1;32m    <a href='file:///opt/homebrew/Cellar/python%403.9/3.9.12_1/Frameworks/Python.framework/Versions/3.9/lib/python3.9/concurrent/futures/thread.py?line=232'>233</a>\u001b[0m \u001b[39mif\u001b[39;00m wait:\n\u001b[1;32m    <a href='file:///opt/homebrew/Cellar/python%403.9/3.9.12_1/Frameworks/Python.framework/Versions/3.9/lib/python3.9/concurrent/futures/thread.py?line=233'>234</a>\u001b[0m     \u001b[39mfor\u001b[39;00m t \u001b[39min\u001b[39;00m \u001b[39mself\u001b[39m\u001b[39m.\u001b[39m_threads:\n\u001b[0;32m--> <a href='file:///opt/homebrew/Cellar/python%403.9/3.9.12_1/Frameworks/Python.framework/Versions/3.9/lib/python3.9/concurrent/futures/thread.py?line=234'>235</a>\u001b[0m         t\u001b[39m.\u001b[39;49mjoin()\n",
      "File \u001b[0;32m/opt/homebrew/Cellar/python@3.9/3.9.12_1/Frameworks/Python.framework/Versions/3.9/lib/python3.9/threading.py:1053\u001b[0m, in \u001b[0;36mThread.join\u001b[0;34m(self, timeout)\u001b[0m\n\u001b[1;32m   <a href='file:///opt/homebrew/Cellar/python%403.9/3.9.12_1/Frameworks/Python.framework/Versions/3.9/lib/python3.9/threading.py?line=1049'>1050</a>\u001b[0m     \u001b[39mraise\u001b[39;00m \u001b[39mRuntimeError\u001b[39;00m(\u001b[39m\"\u001b[39m\u001b[39mcannot join current thread\u001b[39m\u001b[39m\"\u001b[39m)\n\u001b[1;32m   <a href='file:///opt/homebrew/Cellar/python%403.9/3.9.12_1/Frameworks/Python.framework/Versions/3.9/lib/python3.9/threading.py?line=1051'>1052</a>\u001b[0m \u001b[39mif\u001b[39;00m timeout \u001b[39mis\u001b[39;00m \u001b[39mNone\u001b[39;00m:\n\u001b[0;32m-> <a href='file:///opt/homebrew/Cellar/python%403.9/3.9.12_1/Frameworks/Python.framework/Versions/3.9/lib/python3.9/threading.py?line=1052'>1053</a>\u001b[0m     \u001b[39mself\u001b[39;49m\u001b[39m.\u001b[39;49m_wait_for_tstate_lock()\n\u001b[1;32m   <a href='file:///opt/homebrew/Cellar/python%403.9/3.9.12_1/Frameworks/Python.framework/Versions/3.9/lib/python3.9/threading.py?line=1053'>1054</a>\u001b[0m \u001b[39melse\u001b[39;00m:\n\u001b[1;32m   <a href='file:///opt/homebrew/Cellar/python%403.9/3.9.12_1/Frameworks/Python.framework/Versions/3.9/lib/python3.9/threading.py?line=1054'>1055</a>\u001b[0m     \u001b[39m# the behavior of a negative timeout isn't documented, but\u001b[39;00m\n\u001b[1;32m   <a href='file:///opt/homebrew/Cellar/python%403.9/3.9.12_1/Frameworks/Python.framework/Versions/3.9/lib/python3.9/threading.py?line=1055'>1056</a>\u001b[0m     \u001b[39m# historically .join(timeout=x) for x<0 has acted as if timeout=0\u001b[39;00m\n\u001b[1;32m   <a href='file:///opt/homebrew/Cellar/python%403.9/3.9.12_1/Frameworks/Python.framework/Versions/3.9/lib/python3.9/threading.py?line=1056'>1057</a>\u001b[0m     \u001b[39mself\u001b[39m\u001b[39m.\u001b[39m_wait_for_tstate_lock(timeout\u001b[39m=\u001b[39m\u001b[39mmax\u001b[39m(timeout, \u001b[39m0\u001b[39m))\n",
      "File \u001b[0;32m/opt/homebrew/Cellar/python@3.9/3.9.12_1/Frameworks/Python.framework/Versions/3.9/lib/python3.9/threading.py:1073\u001b[0m, in \u001b[0;36mThread._wait_for_tstate_lock\u001b[0;34m(self, block, timeout)\u001b[0m\n\u001b[1;32m   <a href='file:///opt/homebrew/Cellar/python%403.9/3.9.12_1/Frameworks/Python.framework/Versions/3.9/lib/python3.9/threading.py?line=1069'>1070</a>\u001b[0m     \u001b[39mreturn\u001b[39;00m\n\u001b[1;32m   <a href='file:///opt/homebrew/Cellar/python%403.9/3.9.12_1/Frameworks/Python.framework/Versions/3.9/lib/python3.9/threading.py?line=1071'>1072</a>\u001b[0m \u001b[39mtry\u001b[39;00m:\n\u001b[0;32m-> <a href='file:///opt/homebrew/Cellar/python%403.9/3.9.12_1/Frameworks/Python.framework/Versions/3.9/lib/python3.9/threading.py?line=1072'>1073</a>\u001b[0m     \u001b[39mif\u001b[39;00m lock\u001b[39m.\u001b[39;49macquire(block, timeout):\n\u001b[1;32m   <a href='file:///opt/homebrew/Cellar/python%403.9/3.9.12_1/Frameworks/Python.framework/Versions/3.9/lib/python3.9/threading.py?line=1073'>1074</a>\u001b[0m         lock\u001b[39m.\u001b[39mrelease()\n\u001b[1;32m   <a href='file:///opt/homebrew/Cellar/python%403.9/3.9.12_1/Frameworks/Python.framework/Versions/3.9/lib/python3.9/threading.py?line=1074'>1075</a>\u001b[0m         \u001b[39mself\u001b[39m\u001b[39m.\u001b[39m_stop()\n",
      "\u001b[0;31mKeyboardInterrupt\u001b[0m: "
     ]
    },
    {
     "name": "stdout",
     "output_type": "stream",
     "text": [
      "Success: 200\n"
     ]
    }
   ],
   "source": [
    "with concurrent.futures.ThreadPoolExecutor(max_workers=5) as executor:\n",
    "    executor.map(all_in_one, links)\n"
   ]
  }
 ],
 "metadata": {
  "interpreter": {
   "hash": "b0fa6594d8f4cbf19f97940f81e996739fb7646882a419484c72d19e05852a7e"
  },
  "kernelspec": {
   "display_name": "Python 3.9.12 64-bit",
   "language": "python",
   "name": "python3"
  },
  "language_info": {
   "codemirror_mode": {
    "name": "ipython",
    "version": 3
   },
   "file_extension": ".py",
   "mimetype": "text/x-python",
   "name": "python",
   "nbconvert_exporter": "python",
   "pygments_lexer": "ipython3",
   "version": "3.9.12"
  },
  "orig_nbformat": 4
 },
 "nbformat": 4,
 "nbformat_minor": 2
}
